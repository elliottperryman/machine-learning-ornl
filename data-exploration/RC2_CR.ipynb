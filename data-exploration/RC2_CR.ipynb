{
 "cells": [
  {
   "cell_type": "markdown",
   "metadata": {},
   "source": [
    "### This is a pretty boring file - I just use it to develop my electronics inverse function and test it"
   ]
  },
  {
   "cell_type": "code",
   "execution_count": 6,
   "metadata": {},
   "outputs": [
    {
     "name": "stdout",
     "output_type": "stream",
     "text": [
      "Populating the interactive namespace from numpy and matplotlib\n"
     ]
    }
   ],
   "source": [
    "%pylab inline"
   ]
  },
  {
   "cell_type": "code",
   "execution_count": 7,
   "metadata": {},
   "outputs": [],
   "source": [
    "def dataGen(amp, T0):\n",
    "    wf = empty(3500)\n",
    "    length = len(wf)\n",
    "    cc_slow = 2.5+0.4*random.normal(); cc_slow=cc_slow/(cc_slow+1); ##charge collection slow time constant\n",
    "\n",
    "    cc_fast = 1./2.5; #charge collection fast time constant\n",
    "    alpha_cr = 1250./(1250.+1.); #fall time of output\n",
    "    alpha_rc1 = 1./2.75;\n",
    "    alpha_rc2 = 1./2.75;\n",
    "    step=zeros(2);charge=zeros(2);cur_s=zeros(2);cur_f=zeros(2);cr=zeros(2);rc1=zeros(2);rc2=zeros(2);\n",
    "\n",
    "    for i in range(length):\n",
    "        if i>=T0:\n",
    "            step[i%2]=1.\n",
    "        else:\n",
    "            step[i%2]=0.\n",
    "        cur_s[i%2]=cc_slow*(cur_s[(i+1)%2]+step[i%2]-step[(i+1)%2]);\n",
    "        cur_f[i%2]=cc_fast*(cur_s[i%2]-cur_f[(i+1)%2])+cur_f[(i+1)%2];\n",
    "        charge[i%2]=charge[(i+1)%2]+amp*cur_f[i%2]*(1./cc_slow-1.);\n",
    "        cr[i%2]=alpha_cr*(cr[(i+1)%2]+charge[i%2]-charge[(i+1)%2]);\n",
    "        rc1[i%2]=alpha_rc1*(cr[i%2]-rc1[(i+1)%2])+rc1[(i+1)%2];\n",
    "        rc2[i%2]=alpha_rc2*(rc1[i%2]-rc2[(i+1)%2])+rc2[(i+1)%2];\n",
    "\n",
    "        wf[i] = rc2[i%2];\n",
    "    return wf"
   ]
  },
  {
   "cell_type": "code",
   "execution_count": 3,
   "metadata": {},
   "outputs": [],
   "source": [
    "from numba import jit"
   ]
  },
  {
   "cell_type": "code",
   "execution_count": 4,
   "metadata": {},
   "outputs": [],
   "source": [
    "@jit(nopython=True)\n",
    "def rc2_cr(wf):\n",
    "    wf2 = empty(3500)\n",
    "    length = len(wf2)\n",
    "    alpha_cr = 1250./(1250.+1.); #fall time of output\n",
    "    alpha_rc1 = 1./2.75;\n",
    "    alpha_rc2 = 1./2.75;    \n",
    "    zrc1 = zeros(2)\n",
    "    zcr = zeros(2)\n",
    "    zcharge = zeros(2)\n",
    "    zrc2 = wf[:2].copy()\n",
    "    for i in range(length):\n",
    "        zrc2[i%2] = wf[i]\n",
    "        \n",
    "        zrc1[i%2] = (zrc2[i%2] - zrc2[(i+1)%2])/alpha_rc2 + zrc2[(i+1)%2]\n",
    "        zcr[i%2] = (zrc1[i%2] - zrc1[(i+1)%2])/alpha_rc1 + zrc1[(i+1)%2]\n",
    "        zcharge[i%2] = (zcr[i%2]/alpha_cr) - zcr[(i+1)%2] + zcharge[(i+1)%2] \n",
    "\n",
    "        wf2[i] = zcharge[i%2]\n",
    "    \n",
    "    return wf2"
   ]
  },
  {
   "cell_type": "code",
   "execution_count": 8,
   "metadata": {},
   "outputs": [],
   "source": [
    "wf1 = dataGen(100,1000)"
   ]
  },
  {
   "cell_type": "code",
   "execution_count": 9,
   "metadata": {},
   "outputs": [],
   "source": [
    "wf2 = rc2_cr(wf1)"
   ]
  },
  {
   "cell_type": "code",
   "execution_count": 10,
   "metadata": {},
   "outputs": [
    {
     "data": {
      "text/plain": [
       "[<matplotlib.lines.Line2D at 0x7f046a7bfd30>]"
      ]
     },
     "execution_count": 10,
     "metadata": {},
     "output_type": "execute_result"
    },
    {
     "data": {
      "image/png": "[encoded data removed]",
      "text/plain": [
       "<Figure size 432x288 with 1 Axes>"
      ]
     },
     "metadata": {
      "needs_background": "light"
     },
     "output_type": "display_data"
    }
   ],
   "source": [
    "plot(wf1)\n",
    "plot(wf2)"
   ]
  },
  {
   "cell_type": "code",
   "execution_count": null,
   "metadata": {},
   "outputs": [],
   "source": []
  }
 ],
 "metadata": {
  "kernelspec": {
   "display_name": "Python 3",
   "language": "python",
   "name": "python3"
  },
  "language_info": {
   "codemirror_mode": {
    "name": "ipython",
    "version": 3
   },
   "file_extension": ".py",
   "mimetype": "text/x-python",
   "name": "python",
   "nbconvert_exporter": "python",
   "pygments_lexer": "ipython3",
   "version": "3.7.3"
  }
 },
 "nbformat": 4,
 "nbformat_minor": 4
}
