{
 "cells": [
  {
   "cell_type": "markdown",
   "metadata": {},
   "source": [
    "# This has only one purpose - show how the rise time changes with signal amplitude"
   ]
  },
  {
   "cell_type": "code",
   "execution_count": 1,
   "metadata": {},
   "outputs": [],
   "source": [
    "%run readCa45.py"
   ]
  },
  {
   "cell_type": "markdown",
   "metadata": {},
   "source": [
    "Inverse of the electronics"
   ]
  },
  {
   "cell_type": "code",
   "execution_count": 2,
   "metadata": {},
   "outputs": [],
   "source": [
    "@jit(nopython=True)\n",
    "def rc2_cr(wf, fallTime):\n",
    "    wf2 = np.empty(3500)\n",
    "    length = len(wf2)\n",
    "    wf -= np.mean(wf[:400])\n",
    "    wf /= np.amax(wf)\n",
    "    \n",
    "    alpha_cr = fallTime/(fallTime+1.); #fall time of output\n",
    "    alpha_rc1 = 1./2.75;\n",
    "    alpha_rc2 = 1./2.75;    \n",
    "    zrc1 = np.zeros(2)\n",
    "    zcr = np.zeros(2)\n",
    "    zcharge = np.zeros(2)\n",
    "    zrc2 = wf[:2].copy()\n",
    "    for i in range(length):\n",
    "        zrc2[i%2] = wf[i]\n",
    "        \n",
    "        zrc1[i%2] = (zrc2[i%2] - zrc2[(i+1)%2])/alpha_rc2 + zrc2[(i+1)%2]\n",
    "        zcr[i%2] = (zrc1[i%2] - zrc1[(i+1)%2])/alpha_rc1 + zrc1[(i+1)%2]\n",
    "        zcharge[i%2] = (zcr[i%2]/alpha_cr) - zcr[(i+1)%2] + zcharge[(i+1)%2] \n",
    "\n",
    "        wf2[i] = zcharge[i%2]\n",
    "    \n",
    "    return wf2"
   ]
  },
  {
   "cell_type": "markdown",
   "metadata": {},
   "source": [
    "Lookup table of the detector attributes"
   ]
  },
  {
   "cell_type": "code",
   "execution_count": 3,
   "metadata": {},
   "outputs": [],
   "source": [
    "# fall_times[board][channel] \n",
    "fall_times=[[1000, 1031.3367, 1086.8575, 1217.0291, 1041.5563, 1000,      1230.2096, 1188.8999],\\\n",
    "            [1000, 1263.1642, 1233.1743, 999.1461,  1199.1291, 1112.0769, 1049.4534, 1219.0482],\\\n",
    "            [1000, 1000,      1077.4932, 1157.1627, 1000,      1163.2235, 1000,      1000],\\\n",
    "            [1000, 1027.103,  1111.1212, 1033.5468, 1109.469,  1022.693,  1929.7336, 1000],\\\n",
    "            [1000, 1124.478,  1073.1306, 1007.7979, 1100.4457, 1045.0566, 1135.8975, 1073.1854],\\\n",
    "            [1000, 1000,      1087.187,  1133.1069, 1005.3494, 1000,      1000,      1000]]\n",
    "\n",
    "# lookup table as described in image\n",
    "pixel_to_bc = { '39W':(0,1),'62W':(1,1),'77W':(2,1),'39E':(3,1),'62E':(4,1),'77E':(5,1), \\\n",
    "                '40W':(0,2),'63W':(1,2),'78W':(2,2),'40E':(3,2),'63E':(4,2),'78E':(5,2), \\\n",
    "                '41W':(0,3),'64W':(1,3),'87W':(2,3),'41E':(3,3),'64E':(4,3),'87E':(5,3), \\\n",
    "                '50W':(0,4),'65W':(1,4),'88W':(2,4),'50E':(3,4),'65E':(4,4),'88E':(5,4), \\\n",
    "                '51W':(0,5),'66W':(1,5),'89W':(2,5),'51E':(3,5),'66E':(4,5),'89E':(5,5), \\\n",
    "                '52W':(0,6),'75W':(1,6),            '52E':(3,6),'75E':(4,6),       \\\n",
    "                '53W':(0,7),'76W':(1,7),            '53E':(3,7),'76E':(4,7) }\n",
    "\n",
    "# put it all together to look up fall time\n",
    "def fallTimeLookup(pixel):\n",
    "    if (pixel not in pixel_to_bc):\n",
    "        print('Could not find pixel '+pixel+' in lookup table')\n",
    "        return None\n",
    "    board, channel = pixel_to_bc[pixel]\n",
    "    return fall_times[board][channel]"
   ]
  },
  {
   "cell_type": "code",
   "execution_count": 4,
   "metadata": {},
   "outputs": [],
   "source": [
    "import h5py"
   ]
  },
  {
   "cell_type": "code",
   "execution_count": 5,
   "metadata": {},
   "outputs": [],
   "source": [
    "EnergyBins = np.linspace(0,6000,61)"
   ]
  },
  {
   "cell_type": "code",
   "execution_count": 6,
   "metadata": {},
   "outputs": [],
   "source": [
    "AVG_WF = np.zeros((len(EnergyBins)+1, 3500))"
   ]
  },
  {
   "cell_type": "code",
   "execution_count": 7,
   "metadata": {},
   "outputs": [],
   "source": [
    "WF_COUNT = np.zeros(len(EnergyBins)+1)"
   ]
  },
  {
   "cell_type": "code",
   "execution_count": 8,
   "metadata": {},
   "outputs": [
    {
     "data": {
      "text/plain": [
       "array([   0.,  100.,  200.,  300.,  400.,  500.,  600.,  700.,  800.,\n",
       "        900., 1000., 1100., 1200., 1300., 1400., 1500., 1600., 1700.,\n",
       "       1800., 1900., 2000., 2100., 2200., 2300., 2400., 2500., 2600.,\n",
       "       2700., 2800., 2900., 3000., 3100., 3200., 3300., 3400., 3500.,\n",
       "       3600., 3700., 3800., 3900., 4000., 4100., 4200., 4300., 4400.,\n",
       "       4500., 4600., 4700., 4800., 4900., 5000., 5100., 5200., 5300.,\n",
       "       5400., 5500., 5600., 5700., 5800., 5900., 6000.])"
      ]
     },
     "execution_count": 8,
     "metadata": {},
     "output_type": "execute_result"
    }
   ],
   "source": [
    "EnergyBins"
   ]
  },
  {
   "cell_type": "markdown",
   "metadata": {},
   "source": [
    "## Parse through the data, undoing the electronics, normalizing, and putting in an appropriate energy bin"
   ]
  },
  {
   "cell_type": "code",
   "execution_count": 13,
   "metadata": {},
   "outputs": [],
   "source": [
    "for fileName in os.listdir('.'):\n",
    "    if fileName[-4:]=='hdf5':\n",
    "        f = h5py.File(fileName, 'r')\n",
    "        for i in range(10**4): #len(f['X'])):\n",
    "            rc_pulse = rc2_cr(f['X'][i], fallTimeLookup((f['pixelIDs'][i]).decode('utf-8')))\n",
    "            E_id = int(f['E'][i]/100)-1\n",
    "            if E_id > len(AVG_WF)-1:\n",
    "                E_id = len(AVG_WF) - 1\n",
    "            AVG_WF[E_id] += rc_pulse\n",
    "            WF_COUNT[E_id] += 1\n",
    "        f.close()"
   ]
  },
  {
   "cell_type": "code",
   "execution_count": 14,
   "metadata": {},
   "outputs": [
    {
     "data": {
      "text/plain": [
       "array([1.495e+03, 1.572e+03, 1.421e+03, 1.140e+03, 9.390e+02, 8.120e+02,\n",
       "       5.850e+02, 4.950e+02, 4.300e+02, 3.410e+02, 2.030e+02, 1.540e+02,\n",
       "       8.000e+01, 4.800e+01, 2.000e+01, 6.000e+00, 0.000e+00, 1.000e+00,\n",
       "       0.000e+00, 1.000e+00, 0.000e+00, 0.000e+00, 0.000e+00, 0.000e+00,\n",
       "       0.000e+00, 0.000e+00, 0.000e+00, 0.000e+00, 0.000e+00, 0.000e+00,\n",
       "       0.000e+00, 0.000e+00, 4.500e+01, 1.400e+01, 0.000e+00, 0.000e+00,\n",
       "       0.000e+00, 1.000e+00, 1.000e+00, 8.000e+00, 1.900e+01, 1.000e+00,\n",
       "       0.000e+00, 0.000e+00, 0.000e+00, 0.000e+00, 0.000e+00, 0.000e+00,\n",
       "       0.000e+00, 0.000e+00, 0.000e+00, 0.000e+00, 0.000e+00, 0.000e+00,\n",
       "       0.000e+00, 0.000e+00, 0.000e+00, 0.000e+00, 0.000e+00, 0.000e+00,\n",
       "       0.000e+00, 1.680e+02])"
      ]
     },
     "execution_count": 14,
     "metadata": {},
     "output_type": "execute_result"
    }
   ],
   "source": [
    "WF_COUNT"
   ]
  },
  {
   "cell_type": "code",
   "execution_count": 15,
   "metadata": {},
   "outputs": [
    {
     "name": "stderr",
     "output_type": "stream",
     "text": [
      "/home/david/.local/lib/python3.5/site-packages/ipykernel_launcher.py:1: RuntimeWarning: invalid value encountered in true_divide\n",
      "  \"\"\"Entry point for launching an IPython kernel.\n"
     ]
    }
   ],
   "source": [
    "AVG_WF /= WF_COUNT.reshape(-1,1)"
   ]
  },
  {
   "cell_type": "code",
   "execution_count": 16,
   "metadata": {},
   "outputs": [
    {
     "data": {
      "image/png": "[encoded data removed]",
      "text/plain": [
       "<Figure size 432x288 with 1 Axes>"
      ]
     },
     "metadata": {
      "needs_background": "light"
     },
     "output_type": "display_data"
    }
   ],
   "source": [
    "plot(AVG_WF[1][900:1100], label='1')\n",
    "plot(AVG_WF[10][900:1100], label='10')\n",
    "legend();\n",
    "savefig('holyHauntedRiseTimesBatman.png')"
   ]
  },
  {
   "cell_type": "markdown",
   "metadata": {},
   "source": [
    "# This is the plot that shows it! \n",
    "You can see that at the lower energy the signal takes much longer to reach its maximum value"
   ]
  }
 ],
 "metadata": {
  "kernelspec": {
   "display_name": "Python 3",
   "language": "python",
   "name": "python3"
  },
  "language_info": {
   "codemirror_mode": {
    "name": "ipython",
    "version": 3
   },
   "file_extension": ".py",
   "mimetype": "text/x-python",
   "name": "python",
   "nbconvert_exporter": "python",
   "pygments_lexer": "ipython3",
   "version": "3.7.3"
  }
 },
 "nbformat": 4,
 "nbformat_minor": 4
}
