{
 "cells": [
  {
   "cell_type": "markdown",
   "metadata": {},
   "source": [
    "This is essentially just a bunch of function definitions to make life a little easier"
   ]
  },
  {
   "cell_type": "code",
   "execution_count": 1,
   "metadata": {},
   "outputs": [],
   "source": [
    "import numpy as np\n",
    "from matplotlib.pyplot import *\n",
    "import matplotlib.pyplot as plt\n",
    "import numba as nb\n",
    "from numba import jit\n",
    "import os\n",
    "from sklearn.cluster import KMeans\n",
    "import pickle\n",
    "import pyfftw\n",
    "from sklearn.cluster import MiniBatchKMeans\n",
    "import psutil\n",
    "process = psutil.Process(os.getpid())"
   ]
  },
  {
   "cell_type": "code",
   "execution_count": 2,
   "metadata": {},
   "outputs": [],
   "source": [
    "def readData(fileName):\n",
    "    dt = np.dtype([('header', '33c'), ('wf', '3500h')])\n",
    "    s = os.stat(fileName)\n",
    "    N = int((s.st_size - 8)/7033)\n",
    "    with open(fileName, 'rb') as file:\n",
    "        theader = np.core.records.fromfile(file,formats='Q',shape=1,byteorder='<')[0][0]\n",
    "        file.seek(8)\n",
    "        data = np.core.records.fromfile(file, dtype=dt ,shape=N,byteorder='<')\n",
    "    return data"
   ]
  },
  {
   "cell_type": "code",
   "execution_count": 3,
   "metadata": {},
   "outputs": [],
   "source": [
    "def bitLogic(data):\n",
    "    # make bitlogic function and compile it to c code\n",
    "    @jit(nopython=True)\n",
    "    def bitLogic(x):\n",
    "        for i in range(3500):\n",
    "            x[i] &= 16383\n",
    "            if x[i]>8191:\n",
    "                x[i] -= 16384\n",
    "    bitLogic(np.arange(3500, dtype='h'))\n",
    "    # run over the data\n",
    "    for j in range(len(data)):\n",
    "        bitLogic(data['wf'][j])"
   ]
  },
  {
   "cell_type": "code",
   "execution_count": 4,
   "metadata": {},
   "outputs": [],
   "source": [
    "def getPixelInfo(data):\n",
    "    dh = np.dtype([\n",
    "        ('result',np.ubyte), ('event id', 'i'), \n",
    "        ('board number', 'i4'), ('channel number', 'i4'),\n",
    "        ('req. timestamp',np.uint64), ('cur timestamp',np.uint64),\n",
    "        ('length', 'i4')])\n",
    "\n",
    "    buf = data['header'].copy(order='C')\n",
    "\n",
    "    headerInfo = buf.view(dh)\n",
    "\n",
    "    headerInfo\n",
    "\n",
    "    # lookup table as described in image\n",
    "    pixel_to_bc = { '39W':(0,1),'62W':(1,1),'77W':(2,1),'39E':(3,1),'62E':(4,1),'77E':(5,1), \\\n",
    "                    '40W':(0,2),'63W':(1,2),'78W':(2,2),'40E':(3,2),'63E':(4,2),'78E':(5,2), \\\n",
    "                    '41W':(0,3),'64W':(1,3),'87W':(2,3),'41E':(3,3),'64E':(4,3),'87E':(5,3), \\\n",
    "                    '50W':(0,4),'65W':(1,4),'88W':(2,4),'50E':(3,4),'65E':(4,4),'88E':(5,4), \\\n",
    "                    '51W':(0,5),'66W':(1,5),'89W':(2,5),'51E':(3,5),'66E':(4,5),'89E':(5,5), \\\n",
    "                    '52W':(0,6),'75W':(1,6),            '52E':(3,6),'75E':(4,6),       \\\n",
    "                    '53W':(0,7),'76W':(1,7),            '53E':(3,7),'76E':(4,7) }\n",
    "\n",
    "    bc_to_pixel = {}\n",
    "    for x in pixel_to_bc.items():\n",
    "        bc_to_pixel[x[1]] = x[0]\n",
    "\n",
    "    pixel_to_bc['51W']\n",
    "\n",
    "    bc_to_pixel[(0,5)]\n",
    "\n",
    "    pixelIDs = []\n",
    "\n",
    "    for i in range(len(headerInfo)):\n",
    "        x = (headerInfo[i]['board number'][0], headerInfo[i]['channel number'][0])\n",
    "        if x in bc_to_pixel:\n",
    "            pixelIDs.append(bc_to_pixel[x])\n",
    "        else:\n",
    "            pixelIDs.append('NA_')\n",
    "    return pixelIDs"
   ]
  },
  {
   "cell_type": "code",
   "execution_count": 5,
   "metadata": {},
   "outputs": [],
   "source": [
    "# fall_times[board][channel] \n",
    "fall_times=[[1000, 1031.3367, 1086.8575, 1217.0291, 1041.5563, 1000,      1230.2096, 1188.8999],\\\n",
    "            [1000, 1263.1642, 1233.1743, 999.1461,  1199.1291, 1112.0769, 1049.4534, 1219.0482],\\\n",
    "            [1000, 1000,      1077.4932, 1157.1627, 1000,      1163.2235, 1000,      1000],\\\n",
    "            [1000, 1027.103,  1111.1212, 1033.5468, 1109.469,  1022.693,  1929.7336, 1000],\\\n",
    "            [1000, 1124.478,  1073.1306, 1007.7979, 1100.4457, 1045.0566, 1135.8975, 1073.1854],\\\n",
    "            [1000, 1000,      1087.187,  1133.1069, 1005.3494, 1000,      1000,      1000]]\n",
    "\n",
    "# lookup table as described in image\n",
    "pixel_to_bc = { '39W':(0,1),'62W':(1,1),'77W':(2,1),'39E':(3,1),'62E':(4,1),'77E':(5,1), \\\n",
    "                '40W':(0,2),'63W':(1,2),'78W':(2,2),'40E':(3,2),'63E':(4,2),'78E':(5,2), \\\n",
    "                '41W':(0,3),'64W':(1,3),'87W':(2,3),'41E':(3,3),'64E':(4,3),'87E':(5,3), \\\n",
    "                '50W':(0,4),'65W':(1,4),'88W':(2,4),'50E':(3,4),'65E':(4,4),'88E':(5,4), \\\n",
    "                '51W':(0,5),'66W':(1,5),'89W':(2,5),'51E':(3,5),'66E':(4,5),'89E':(5,5), \\\n",
    "                '52W':(0,6),'75W':(1,6),            '52E':(3,6),'75E':(4,6),       \\\n",
    "                '53W':(0,7),'76W':(1,7),            '53E':(3,7),'76E':(4,7) }\n",
    "\n",
    "# put it all together to look up fall time\n",
    "def fallTimeLookup(pixel):\n",
    "    if (pixel not in pixel_to_bc):\n",
    "        print('Could not find pixel '+pixel+' in lookup table')\n",
    "        return None\n",
    "    board, channel = pixel_to_bc[pixel]\n",
    "    return fall_times[board][channel]"
   ]
  },
  {
   "cell_type": "code",
   "execution_count": 6,
   "metadata": {},
   "outputs": [],
   "source": [
    "def amplitudes(data):\n",
    "    ## Get trapezoid filter\n",
    "    tau = np.int(1000)\n",
    "    rise = np.int(200)\n",
    "    top = np.int(100)\n",
    "    trap = np.empty(3500)\n",
    "    for i in range(rise):\n",
    "        trap[i] = tau + i\n",
    "        trap[i+rise+top] = rise - tau - i\n",
    "    for i in range(rise, rise+top):\n",
    "        trap[i] = rise\n",
    "    for i in range(rise+top, 3500):\n",
    "        trap[i] = 0\n",
    "    trap = trap/(rise*tau)\n",
    "    trap[rise+top:2*rise+top] = -trap[:rise]\n",
    "    trapNew = np.fft.rfft(trap)\n",
    "\n",
    "    # Get amplitudes\n",
    "    f = pyfftw.interfaces.numpy_fft.irfft(pyfftw.interfaces.numpy_fft.rfft(data)*trapNew)\n",
    "    E = np.amax(f, 1, keepdims=True)\n",
    "    E -= np.mean(f[:,:100], 1, keepdims=True)\n",
    "    return E"
   ]
  },
  {
   "cell_type": "code",
   "execution_count": 7,
   "metadata": {},
   "outputs": [],
   "source": [
    "@jit(nopython=True)\n",
    "def normBatch(x):\n",
    "    for i in range(len(x)):\n",
    "        x[i] = x[i] - np.amin(x[i])\n",
    "        x[i] = x[i]*2./np.amax(x[i])\n",
    "        x[i] = x[i] - 1\n",
    "    return x"
   ]
  },
  {
   "cell_type": "code",
   "execution_count": 14,
   "metadata": {},
   "outputs": [],
   "source": [
    "def LoadData(fileName):\n",
    "    \"\"\"\n",
    "    Read in a calcium 45 file and predicts with k means clustering\n",
    "    Returns: X(normalized), E(approx), pixelIDs, predicted Label(with 'kmean_ic')\n",
    "    \"\"\"\n",
    "    data = readData(fileName)\n",
    "    bitLogic(data)\n",
    "    pixelIDs = getPixelInfo(data)\n",
    "    \n",
    "    E = [amplitudes(data['wf'][i*10**5 : (i+1)*10**5].astype(np.float32)) for i in range(4)]\n",
    "    E = np.array(E).flatten()\n",
    "    E = np.append(E, amplitudes(data['wf'][4*10**5:].astype(np.float32)))\n",
    "\n",
    "    X = data['wf'].astype(np.float32)\n",
    "    X[:10] = normBatch(X[:10])\n",
    "    X = normBatch(X)\n",
    "\n",
    "    with open('kmean_ic', 'rb') as file:\n",
    "        kmean = pickle.load(file)\n",
    "\n",
    "    pred = kmean.predict(X)\n",
    "    return X, E, pixelIDs, pred"
   ]
  },
  {
   "cell_type": "code",
   "execution_count": 9,
   "metadata": {},
   "outputs": [],
   "source": [
    "X, E, pixelIDs, pred = LoadData('Run_00120_00.bin')"
   ]
  },
  {
   "cell_type": "code",
   "execution_count": 10,
   "metadata": {},
   "outputs": [
    {
     "data": {
      "text/plain": [
       "[<matplotlib.lines.Line2D at 0x7fa67cbf4550>]"
      ]
     },
     "execution_count": 10,
     "metadata": {},
     "output_type": "execute_result"
    },
    {
     "data": {
      "image/png": "[encoded data removed]",
      "text/plain": [
       "<Figure size 432x288 with 1 Axes>"
      ]
     },
     "metadata": {
      "needs_background": "light"
     },
     "output_type": "display_data"
    }
   ],
   "source": [
    "plot(X[-2000])"
   ]
  },
  {
   "cell_type": "code",
   "execution_count": 11,
   "metadata": {},
   "outputs": [
    {
     "data": {
      "text/plain": [
       "1090.9849070894143"
      ]
     },
     "execution_count": 11,
     "metadata": {},
     "output_type": "execute_result"
    }
   ],
   "source": [
    "E[-2000]"
   ]
  },
  {
   "cell_type": "code",
   "execution_count": 12,
   "metadata": {},
   "outputs": [
    {
     "data": {
      "text/plain": [
       "'64W'"
      ]
     },
     "execution_count": 12,
     "metadata": {},
     "output_type": "execute_result"
    }
   ],
   "source": [
    "pixelIDs[-2000]"
   ]
  },
  {
   "cell_type": "code",
   "execution_count": 13,
   "metadata": {},
   "outputs": [
    {
     "data": {
      "text/plain": [
       "9"
      ]
     },
     "execution_count": 13,
     "metadata": {},
     "output_type": "execute_result"
    }
   ],
   "source": [
    "pred[-2000]"
   ]
  },
  {
   "cell_type": "code",
   "execution_count": null,
   "metadata": {},
   "outputs": [],
   "source": []
  }
 ],
 "metadata": {
  "kernelspec": {
   "display_name": "Python 3",
   "language": "python",
   "name": "python3"
  },
  "language_info": {
   "codemirror_mode": {
    "name": "ipython",
    "version": 3
   },
   "file_extension": ".py",
   "mimetype": "text/x-python",
   "name": "python",
   "nbconvert_exporter": "python",
   "pygments_lexer": "ipython3",
   "version": "3.7.3"
  }
 },
 "nbformat": 4,
 "nbformat_minor": 4
}
