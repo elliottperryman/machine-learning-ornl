{
 "cells": [
  {
   "cell_type": "markdown",
   "metadata": {},
   "source": [
    "### Now that I have a way to get at some pulses from Ca45 data, I can train a GAN to generate pulses.\n",
    "To do list\n",
    "* investigate whether training on noisy data is better/faster than on no noise data - use Aaron's simulation\n",
    "    * done - better to train on noisy data\n",
    "* Find the difference between Aaron's pulseGen and the cluster centers\n",
    "* try to cluster pileup events\n",
    "    * get good clustering params\n",
    "        * done - saved in 'kmeans' pickle\n",
    "    * go through and save all the non-noise wfs\n",
    "    * chop off ends and see if can cluster pileup/no-pileup\n",
    "        * this should be in Clustering.ipynb\n",
    "* Get a network that can recognize Aaron's pulse\n",
    "    * done - did this in the process of testing noisy/not noisy training\n",
    "* Use this to train a GAN that can generate pulses like Aaron's\n",
    "* find how the GAN pulses differ from cluster centers"
   ]
  },
  {
   "cell_type": "markdown",
   "metadata": {},
   "source": [
    "## Imports"
   ]
  },
  {
   "cell_type": "code",
   "execution_count": 1,
   "metadata": {},
   "outputs": [],
   "source": [
    "import numpy as np\n",
    "from matplotlib.pyplot import *"
   ]
  },
  {
   "cell_type": "code",
   "execution_count": 2,
   "metadata": {},
   "outputs": [],
   "source": [
    "import matplotlib.pyplot as plt"
   ]
  },
  {
   "cell_type": "code",
   "execution_count": 3,
   "metadata": {},
   "outputs": [],
   "source": [
    "from numba import jit"
   ]
  },
  {
   "cell_type": "code",
   "execution_count": 4,
   "metadata": {},
   "outputs": [],
   "source": [
    "from sklearn.metrics import confusion_matrix"
   ]
  },
  {
   "cell_type": "markdown",
   "metadata": {},
   "source": [
    "## Data Generators"
   ]
  },
  {
   "cell_type": "code",
   "execution_count": 5,
   "metadata": {},
   "outputs": [],
   "source": [
    "@jit(nopython=True)\n",
    "def makeNoPileup(amp, T0):\n",
    "    wf = np.empty(3500)\n",
    "    length = len(wf)\n",
    "    cc_slow = 2.5+0.4*np.random.normal(); cc_slow=cc_slow/(cc_slow+1); ##charge collection slow time constant\n",
    "\n",
    "    cc_fast = 1./2.5; #charge collection fast time constant\n",
    "    alpha_cr = 1250./(1250.+1.); #fall time of output\n",
    "    alpha_rc1 = 1./2.75;\n",
    "    alpha_rc2 = 1./2.75;\n",
    "    step=np.zeros(2);charge=np.zeros(2);cur_s=np.zeros(2);cur_f=np.zeros(2);cr=np.zeros(2);rc1=np.zeros(2);rc2=np.zeros(2);\n",
    "    for i in range(length):\n",
    "        if i>=T0:\n",
    "            step[i%2]=1.\n",
    "        else:\n",
    "            step[i%2]=0.\n",
    "        cur_s[i%2]=cc_slow*(cur_s[(i+1)%2]+step[i%2]-step[(i+1)%2]);\n",
    "        cur_f[i%2]=cc_fast*(cur_s[i%2]-cur_f[(i+1)%2])+cur_f[(i+1)%2];\n",
    "        charge[i%2]=charge[(i+1)%2]+amp*cur_f[i%2]*(1./cc_slow-1.);\n",
    "        cr[i%2]=alpha_cr*(cr[(i+1)%2]+charge[i%2]-charge[(i+1)%2]);\n",
    "        rc1[i%2]=alpha_rc1*(cr[i%2]-rc1[(i+1)%2])+rc1[(i+1)%2];\n",
    "        rc2[i%2]=alpha_rc2*(rc1[i%2]-rc2[(i+1)%2])+rc2[(i+1)%2];\n",
    "        wf[i]=rc2[i%2];\n",
    "    return wf"
   ]
  },
  {
   "cell_type": "code",
   "execution_count": 6,
   "metadata": {},
   "outputs": [],
   "source": [
    "wf = makeNoPileup(100,1000)"
   ]
  },
  {
   "cell_type": "code",
   "execution_count": 7,
   "metadata": {},
   "outputs": [
    {
     "data": {
      "text/plain": [
       "[<matplotlib.lines.Line2D at 0x7fa2d1b44198>]"
      ]
     },
     "execution_count": 7,
     "metadata": {},
     "output_type": "execute_result"
    },
    {
     "data": {
      "image/png": "[encoded data removed]",
      "text/plain": [
       "<Figure size 432x288 with 1 Axes>"
      ]
     },
     "metadata": {
      "needs_background": "light"
     },
     "output_type": "display_data"
    }
   ],
   "source": [
    "plot(wf)"
   ]
  },
  {
   "cell_type": "code",
   "execution_count": 8,
   "metadata": {},
   "outputs": [],
   "source": [
    "@jit(nopython=True)\n",
    "def makePileup(amp, T0, delay, perc):\n",
    "    wf = np.empty(3500)\n",
    "    length = len(wf)\n",
    "    cc_slow = 2.5+0.4*np.random.normal(); cc_slow=cc_slow/(cc_slow+1); ##charge collection slow time constant\n",
    "\n",
    "    cc_fast = 1./2.5; #charge collection fast time constant\n",
    "    alpha_cr = 1250./(1250.+1.); #fall time of output\n",
    "    alpha_rc1 = 1./2.75;\n",
    "    alpha_rc2 = 1./2.75;\n",
    "    step=np.zeros(2);charge=np.zeros(2);cur_s=np.zeros(2);cur_f=np.zeros(2);cr=np.zeros(2);rc1=np.zeros(2);rc2=np.zeros(2);\n",
    "    amp1 = perc*amp\n",
    "    ampTotal = amp\n",
    "    T2 = T0+delay\n",
    "    for i in range(length):\n",
    "        \n",
    "        if i>=T2:\n",
    "            step[i%2]=1.\n",
    "        elif i>=T0:\n",
    "            step[i%2]=perc\n",
    "        else:\n",
    "            step[i%2]=0.\n",
    "\n",
    "        cur_s[i%2]=cc_slow*(cur_s[(i+1)%2]+step[i%2]-step[(i+1)%2]);\n",
    "        cur_f[i%2]=cc_fast*(cur_s[i%2]-cur_f[(i+1)%2])+cur_f[(i+1)%2];\n",
    "        charge[i%2]=charge[(i+1)%2]+amp*cur_f[i%2]*(1./cc_slow-1.);\n",
    "        cr[i%2]=alpha_cr*(cr[(i+1)%2]+charge[i%2]-charge[(i+1)%2]);\n",
    "        rc1[i%2]=alpha_rc1*(cr[i%2]-rc1[(i+1)%2])+rc1[(i+1)%2];\n",
    "        rc2[i%2]=alpha_rc2*(rc1[i%2]-rc2[(i+1)%2])+rc2[(i+1)%2];\n",
    "        wf[i]=rc2[i%2];\n",
    "    return wf"
   ]
  },
  {
   "cell_type": "code",
   "execution_count": 19,
   "metadata": {},
   "outputs": [],
   "source": [
    "wf = makePileup(100,1000,100,0.5)"
   ]
  },
  {
   "cell_type": "code",
   "execution_count": 20,
   "metadata": {},
   "outputs": [
    {
     "data": {
      "text/plain": [
       "[<matplotlib.lines.Line2D at 0x7fa2ca06ad30>]"
      ]
     },
     "execution_count": 20,
     "metadata": {},
     "output_type": "execute_result"
    },
    {
     "data": {
      "image/png": "[encoded data removed]",
      "text/plain": [
       "<Figure size 432x288 with 1 Axes>"
      ]
     },
     "metadata": {
      "needs_background": "light"
     },
     "output_type": "display_data"
    }
   ],
   "source": [
    "plot(wf)"
   ]
  },
  {
   "cell_type": "code",
   "execution_count": 21,
   "metadata": {},
   "outputs": [],
   "source": [
    "import numba"
   ]
  },
  {
   "cell_type": "code",
   "execution_count": 22,
   "metadata": {},
   "outputs": [],
   "source": [
    "@jit(nopython=True, locals={'makePileup':numba.typeof(makePileup), 'makeNoPileup':numba.typeof(makeNoPileup)})\n",
    "def genBatch(N):\n",
    "    data = np.empty((N,3500))\n",
    "    E = np.random.randint(200,2000, size=N)\n",
    "    T0= np.random.randint(900,1100, size=N)\n",
    "    p = np.random.random(size=int(N/2))*0.8+0.1\n",
    "    d = np.random.randint(30,40,size=int(N/2))\n",
    "    for i in range(int(N/2)):\n",
    "        data[i] = makeNoPileup(E[i],T0[i])\n",
    "        data[i] = data[i]*2./np.amax(data[i]) - 1.\n",
    "    for i in range((int(N/2)),N):\n",
    "        data[i] = makePileup(E[i],T0[i],d[i-int(N/2)], p[i-int(N/2)])\n",
    "        data[i] = data[i]*2./np.amax(data[i]) - 1.\n",
    "\n",
    "    return data.reshape((N,3500,1))"
   ]
  },
  {
   "cell_type": "code",
   "execution_count": 23,
   "metadata": {},
   "outputs": [],
   "source": [
    "wf = genBatch(10)"
   ]
  },
  {
   "cell_type": "code",
   "execution_count": 24,
   "metadata": {},
   "outputs": [
    {
     "data": {
      "text/plain": [
       "[<matplotlib.lines.Line2D at 0x7fa2ca242358>]"
      ]
     },
     "execution_count": 24,
     "metadata": {},
     "output_type": "execute_result"
    },
    {
     "data": {
      "image/png": "[encoded data removed]",
      "text/plain": [
       "<Figure size 432x288 with 1 Axes>"
      ]
     },
     "metadata": {
      "needs_background": "light"
     },
     "output_type": "display_data"
    }
   ],
   "source": [
    "plot(wf[0])\n",
    "plot(wf[-1])"
   ]
  },
  {
   "cell_type": "code",
   "execution_count": 25,
   "metadata": {},
   "outputs": [],
   "source": [
    "def genNoisyBatch(N):\n",
    "    @jit(nopython=True, locals={'makePileup':numba.typeof(makePileup), 'makeNoPileup':numba.typeof(makeNoPileup)})\n",
    "    def genNoNoise(N):\n",
    "        data = np.empty((N,3500))\n",
    "        E = np.random.randint(200,2000, size=N)\n",
    "        T0= np.random.randint(900,1100, size=N)\n",
    "        p = np.random.random(size=int(N/2))*0.8-0.1\n",
    "        d = np.random.randint(30,40,size=int(N/2))\n",
    "\n",
    "        for i in range(int(N/2)):\n",
    "            data[i] = makeNoPileup(E[i],T0[i])\n",
    "        for i in range((int(N/2)),N):\n",
    "            data[i] = makePileup(E[i],T0[i],d[i-int(N/2)], p[i-int(N/2)])\n",
    "        return data\n",
    "    compile_gen = genNoNoise(1)\n",
    "    \n",
    "    data = genNoNoise(N)\n",
    "    noise = np.random.normal(scale=20., size=(N,3500))\n",
    "    \n",
    "    noisyData = data + noise\n",
    "    \n",
    "    @jit(nopython=True)\n",
    "    def scale_it(N, noisyData):\n",
    "        for i in range(N):\n",
    "            noisyData[i] = noisyData[i]*2./np.amax(noisyData[i]) - 1.\n",
    "\n",
    "    scale_it(1, data[:1])\n",
    "    scale_it(N, noisyData)\n",
    "    \n",
    "    return noisyData.reshape((N,3500,1))"
   ]
  },
  {
   "cell_type": "code",
   "execution_count": 26,
   "metadata": {},
   "outputs": [],
   "source": [
    "wf = genNoisyBatch(10)"
   ]
  },
  {
   "cell_type": "code",
   "execution_count": 27,
   "metadata": {},
   "outputs": [
    {
     "data": {
      "text/plain": [
       "[<matplotlib.lines.Line2D at 0x7fa2d1e42320>]"
      ]
     },
     "execution_count": 27,
     "metadata": {},
     "output_type": "execute_result"
    },
    {
     "data": {
      "image/png": "[encoded data removed]",
      "text/plain": [
       "<Figure size 432x288 with 1 Axes>"
      ]
     },
     "metadata": {
      "needs_background": "light"
     },
     "output_type": "display_data"
    }
   ],
   "source": [
    "plot(wf[0])\n",
    "plot(wf[-1])"
   ]
  },
  {
   "cell_type": "code",
   "execution_count": 28,
   "metadata": {},
   "outputs": [],
   "source": [
    "def getY(data):\n",
    "    N = len(data)\n",
    "    y = np.append(np.zeros(int(N/2)),np.ones(int(N-N/2)))\n",
    "    rnd_state = np.random.get_state()\n",
    "    np.random.shuffle(data)\n",
    "    np.random.set_state(rnd_state)\n",
    "    np.random.shuffle(y)\n",
    "    return y"
   ]
  },
  {
   "cell_type": "markdown",
   "metadata": {},
   "source": [
    "## Model Description"
   ]
  },
  {
   "cell_type": "code",
   "execution_count": 19,
   "metadata": {},
   "outputs": [
    {
     "name": "stderr",
     "output_type": "stream",
     "text": [
      "Using TensorFlow backend.\n"
     ]
    }
   ],
   "source": [
    "from keras.models import Model\n",
    "from keras.layers import Input, Conv1D, Flatten, BatchNormalization, Activation, Add, Dense, MaxPooling1D\n",
    "from keras.optimizers import Adam"
   ]
  },
  {
   "cell_type": "code",
   "execution_count": 20,
   "metadata": {},
   "outputs": [],
   "source": [
    "def resBlock(X, filters, k_size):\n",
    "    X0 = X\n",
    "    \n",
    "    X = MaxPooling1D(pool_size=3)(X)\n",
    "    X = Conv1D(filters, k_size, padding='same')(X)    \n",
    "    X = Activation('relu')(X)\n",
    "\n",
    "    X = MaxPooling1D(pool_size=3)(X)\n",
    "    X = Conv1D(filters, k_size, padding='same')(X)\n",
    "    X = Activation('relu')(X)\n",
    "    \n",
    "    X = MaxPooling1D(pool_size=3)(X)\n",
    "    X = Conv1D(filters, k_size, padding='same')(X)\n",
    "    X = Activation('relu')(X)\n",
    "    \n",
    "    X = MaxPooling1D(pool_size=3)(X)  \n",
    "    \n",
    "    #X = Add()([X, X0])\n",
    "    return X"
   ]
  },
  {
   "cell_type": "code",
   "execution_count": 21,
   "metadata": {},
   "outputs": [],
   "source": [
    "def occam_cnn(F1, K1, input_shape=(3500,1)):\n",
    "    X_in = Input(input_shape)\n",
    "    #X = BatchNormalization()(X_in)\n",
    "    X = resBlock(X_in, F1, K1)\n",
    "    X = Flatten()(X)\n",
    "    X = Dense(1, activation='sigmoid')(X)\n",
    "    m = Model(inputs=X_in, outputs=X, name=\"Occam's CNN\")\n",
    "    m.compile(optimizer='adam', loss='binary_crossentropy', metrics=['accuracy'])\n",
    "    return m"
   ]
  },
  {
   "cell_type": "code",
   "execution_count": 22,
   "metadata": {},
   "outputs": [],
   "source": [
    "model = occam_cnn(128, 64)"
   ]
  },
  {
   "cell_type": "markdown",
   "metadata": {},
   "source": [
    "## Model fitting"
   ]
  },
  {
   "cell_type": "markdown",
   "metadata": {},
   "source": [
    "Compare training on noisy data vs training on non noisy data"
   ]
  },
  {
   "cell_type": "code",
   "execution_count": 23,
   "metadata": {},
   "outputs": [
    {
     "name": "stdout",
     "output_type": "stream",
     "text": [
      "Epoch 1/5\n",
      "10000/10000 [==============================] - 12s 1ms/step - loss: 0.4060 - acc: 0.8065\n",
      "Epoch 2/5\n",
      "10000/10000 [==============================] - 11s 1ms/step - loss: 0.2640 - acc: 0.9015\n",
      "Epoch 3/5\n",
      "10000/10000 [==============================] - 11s 1ms/step - loss: 0.1851 - acc: 0.9373\n",
      "Epoch 4/5\n",
      "10000/10000 [==============================] - 11s 1ms/step - loss: 0.2690 - acc: 0.9012\n",
      "Epoch 5/5\n",
      "10000/10000 [==============================] - 10s 1ms/step - loss: 0.2175 - acc: 0.9210\n",
      "Epoch 1/5\n",
      "10000/10000 [==============================] - 7s 740us/step - loss: 0.1323 - acc: 0.9581\n",
      "Epoch 2/5\n",
      "10000/10000 [==============================] - 7s 712us/step - loss: 0.2421 - acc: 0.9178\n",
      "Epoch 3/5\n",
      "10000/10000 [==============================] - 7s 714us/step - loss: 0.2362 - acc: 0.9192\n",
      "Epoch 4/5\n",
      "10000/10000 [==============================] - 8s 763us/step - loss: 0.2267 - acc: 0.9212\n",
      "Epoch 5/5\n",
      "10000/10000 [==============================] - 7s 734us/step - loss: 0.1302 - acc: 0.9591\n",
      "Epoch 1/5\n",
      "10000/10000 [==============================] - 6s 626us/step - loss: 0.1144 - acc: 0.9654\n",
      "Epoch 2/5\n",
      "10000/10000 [==============================] - 6s 621us/step - loss: 0.0762 - acc: 0.9789\n",
      "Epoch 3/5\n",
      "10000/10000 [==============================] - 6s 642us/step - loss: 0.0921 - acc: 0.9732\n",
      "Epoch 4/5\n",
      "10000/10000 [==============================] - 6s 604us/step - loss: 0.0723 - acc: 0.9808\n",
      "Epoch 5/5\n",
      "10000/10000 [==============================] - 6s 603us/step - loss: 0.1488 - acc: 0.9557\n"
     ]
    }
   ],
   "source": [
    "X = genBatch(10*1000)\n",
    "y = getY(X)\n",
    "model.fit(X, y, epochs=5, batch_size=16)\n",
    "\n",
    "X = genBatch(10*1000)\n",
    "y = getY(X)\n",
    "model.fit(X, y, epochs=5, batch_size=32)\n",
    "\n",
    "X = genBatch(10*1000)\n",
    "y = getY(X)\n",
    "model.fit(X, y, epochs=5, batch_size=64);"
   ]
  },
  {
   "cell_type": "markdown",
   "metadata": {},
   "source": [
    "## Check performance"
   ]
  },
  {
   "cell_type": "code",
   "execution_count": 24,
   "metadata": {},
   "outputs": [],
   "source": [
    "X_noisy = genNoisyBatch(10*1000)\n",
    "y = np.append(np.zeros(5000),np.ones(5000))"
   ]
  },
  {
   "cell_type": "code",
   "execution_count": 25,
   "metadata": {},
   "outputs": [
    {
     "data": {
      "text/plain": [
       "array([[39.98,  2.3 ],\n",
       "       [10.02, 47.7 ]])"
      ]
     },
     "execution_count": 25,
     "metadata": {},
     "output_type": "execute_result"
    }
   ],
   "source": [
    "m = confusion_matrix(np.around(model.predict(X_noisy),0).astype(int), y)\n",
    "m = 100.*m/sum(m.flatten())\n",
    "m"
   ]
  },
  {
   "cell_type": "code",
   "execution_count": 26,
   "metadata": {},
   "outputs": [
    {
     "name": "stdout",
     "output_type": "stream",
     "text": [
      "10000/10000 [==============================] - 2s 179us/step\n"
     ]
    },
    {
     "data": {
      "text/plain": [
       "[0.3904408240496647, 0.8768]"
      ]
     },
     "execution_count": 26,
     "metadata": {},
     "output_type": "execute_result"
    }
   ],
   "source": [
    "model.evaluate(X_noisy, y)"
   ]
  },
  {
   "cell_type": "code",
   "execution_count": 27,
   "metadata": {},
   "outputs": [
    {
     "data": {
      "image/png": "[encoded data removed]",
      "text/plain": [
       "<Figure size 432x288 with 1 Axes>"
      ]
     },
     "metadata": {
      "needs_background": "light"
     },
     "output_type": "display_data"
    }
   ],
   "source": [
    "plt.title('this is when the network is trained on non noisy data')\n",
    "labels_noisy = model.predict(X_noisy[:5000])\n",
    "plt.hist(labels_noisy, bins=50, histtype='step', label='these should be 0')\n",
    "plt.yscale('log')\n",
    "plt.legend();\n",
    "\n",
    "labels_noisy = model.predict(X_noisy[5000:])\n",
    "plt.hist(labels_noisy, bins=50, histtype='step', label='these should be 1')\n",
    "plt.yscale('log')\n",
    "plt.legend();\n"
   ]
  },
  {
   "cell_type": "code",
   "execution_count": 28,
   "metadata": {},
   "outputs": [
    {
     "name": "stdout",
     "output_type": "stream",
     "text": [
      "Epoch 1/5\n",
      "10000/10000 [==============================] - 11s 1ms/step - loss: 0.4289 - acc: 0.7904\n",
      "Epoch 2/5\n",
      "10000/10000 [==============================] - 10s 1ms/step - loss: 0.2511 - acc: 0.9068\n",
      "Epoch 3/5\n",
      "10000/10000 [==============================] - 11s 1ms/step - loss: 0.1985 - acc: 0.9325\n",
      "Epoch 4/5\n",
      "10000/10000 [==============================] - 10s 1ms/step - loss: 0.1707 - acc: 0.9436\n",
      "Epoch 5/5\n",
      "10000/10000 [==============================] - 10s 1ms/step - loss: 0.1584 - acc: 0.9463\n",
      "Epoch 1/5\n",
      "10000/10000 [==============================] - 7s 711us/step - loss: 0.1311 - acc: 0.9586\n",
      "Epoch 2/5\n",
      "10000/10000 [==============================] - 7s 719us/step - loss: 0.1356 - acc: 0.9555 2\n",
      "Epoch 3/5\n",
      "10000/10000 [==============================] - 7s 712us/step - loss: 0.1277 - acc: 0.9614\n",
      "Epoch 4/5\n",
      "10000/10000 [==============================] - 7s 708us/step - loss: 0.1284 - acc: 0.9616\n",
      "Epoch 5/5\n",
      "10000/10000 [==============================] - 7s 699us/step - loss: 0.1214 - acc: 0.9611\n",
      "Epoch 1/5\n",
      "10000/10000 [==============================] - 6s 593us/step - loss: 0.1190 - acc: 0.9628\n",
      "Epoch 2/5\n",
      "10000/10000 [==============================] - 6s 588us/step - loss: 0.1141 - acc: 0.9648\n",
      "Epoch 3/5\n",
      "10000/10000 [==============================] - 6s 607us/step - loss: 0.1139 - acc: 0.9632\n",
      "Epoch 4/5\n",
      "10000/10000 [==============================] - 6s 610us/step - loss: 0.1104 - acc: 0.9661\n",
      "Epoch 5/5\n",
      "10000/10000 [==============================] - 6s 607us/step - loss: 0.1099 - acc: 0.9658\n"
     ]
    }
   ],
   "source": [
    "model = occam_cnn(128,64)\n",
    "X = genNoisyBatch(10*1000)\n",
    "y = getY(X)\n",
    "model.fit(X, y, epochs=5, batch_size=16)\n",
    "\n",
    "X = genNoisyBatch(10*1000)\n",
    "y = getY(X)\n",
    "model.fit(X, y, epochs=5, batch_size=32)\n",
    "\n",
    "X = genNoisyBatch(10*1000)\n",
    "y = getY(X)\n",
    "model.fit(X, y, epochs=5, batch_size=64);"
   ]
  },
  {
   "cell_type": "code",
   "execution_count": 29,
   "metadata": {},
   "outputs": [],
   "source": [
    "X_noisy = genNoisyBatch(10*1000)\n",
    "y = np.append(np.zeros(5000),np.ones(5000))"
   ]
  },
  {
   "cell_type": "code",
   "execution_count": 30,
   "metadata": {},
   "outputs": [
    {
     "data": {
      "text/plain": [
       "array([[49.68,  2.82],\n",
       "       [ 0.32, 47.18]])"
      ]
     },
     "execution_count": 30,
     "metadata": {},
     "output_type": "execute_result"
    }
   ],
   "source": [
    "m = confusion_matrix(np.around(model.predict(X_noisy),0).astype(int), y)\n",
    "m = 100.*m/sum(m.flatten())\n",
    "m"
   ]
  },
  {
   "cell_type": "code",
   "execution_count": 31,
   "metadata": {},
   "outputs": [
    {
     "name": "stdout",
     "output_type": "stream",
     "text": [
      "10000/10000 [==============================] - 2s 179us/step\n"
     ]
    },
    {
     "data": {
      "text/plain": [
       "[0.10441982532643014, 0.9686]"
      ]
     },
     "execution_count": 31,
     "metadata": {},
     "output_type": "execute_result"
    }
   ],
   "source": [
    "model.evaluate(X_noisy, y)"
   ]
  },
  {
   "cell_type": "code",
   "execution_count": 32,
   "metadata": {},
   "outputs": [
    {
     "data": {
      "image/png": "[encoded data removed]",
      "text/plain": [
       "<Figure size 432x288 with 1 Axes>"
      ]
     },
     "metadata": {
      "needs_background": "light"
     },
     "output_type": "display_data"
    }
   ],
   "source": [
    "plt.title('this is when the network is trained on non noisy data')\n",
    "labels_noisy = model.predict(X_noisy[:5000])\n",
    "plt.hist(labels_noisy, bins=50, histtype='step', label='these should be 0')\n",
    "plt.yscale('log')\n",
    "plt.legend();\n",
    "\n",
    "labels_noisy = model.predict(X_noisy[5000:])\n",
    "plt.hist(labels_noisy, bins=50, histtype='step', label='these should be 1')\n",
    "plt.yscale('log')\n",
    "plt.legend();"
   ]
  },
  {
   "cell_type": "markdown",
   "metadata": {},
   "source": [
    "So from this it looks like training on noisy data is just as fast and yields better results when evaluated on noisy data"
   ]
  },
  {
   "cell_type": "code",
   "execution_count": null,
   "metadata": {},
   "outputs": [],
   "source": []
  },
  {
   "cell_type": "code",
   "execution_count": null,
   "metadata": {},
   "outputs": [],
   "source": []
  },
  {
   "cell_type": "code",
   "execution_count": 33,
   "metadata": {},
   "outputs": [],
   "source": [
    "import keras.backend as K\n",
    "from keras.layers import Conv2DTranspose"
   ]
  },
  {
   "cell_type": "code",
   "execution_count": 124,
   "metadata": {},
   "outputs": [],
   "source": [
    "from keras.layers import Lambda"
   ]
  },
  {
   "cell_type": "code",
   "execution_count": 125,
   "metadata": {},
   "outputs": [],
   "source": [
    "def Conv1DTranspose(input_tensor, filters, kernel_size, strides=2, padding='same'):\n",
    "    x = Lambda(lambda x: K.expand_dims(x, axis=2))(input_tensor)\n",
    "    x = Conv2DTranspose(filters=filters, kernel_size=(kernel_size, 1), strides=(strides, 1), padding=padding)(x)\n",
    "    x = Lambda(lambda x: K.squeeze(x, axis=2))(x)\n",
    "    return x"
   ]
  },
  {
   "cell_type": "code",
   "execution_count": 128,
   "metadata": {},
   "outputs": [],
   "source": [
    "def generator():\n",
    "    X_in = Input((100,)) #np.random.random(size=100))\n",
    "    X = Dense(100)(X_in)\n",
    "    X = Dense(100)(X_in)\n",
    "    X = Dense(100)(X_in)\n",
    "    X = Conv1DTranspose(X, 2, 5)\n",
    "    X = Dense(200)(X) #X = Conv1DTranspose(X_in, 5, 3)\n",
    "    m = Model(inputs=X_in, outputs=X)\n",
    "    m.compile(optimizer='adam', loss='mse')\n",
    "    return m"
   ]
  },
  {
   "cell_type": "code",
   "execution_count": 129,
   "metadata": {},
   "outputs": [
    {
     "ename": "ValueError",
     "evalue": "Input 0 is incompatible with layer conv2d_transpose_2: expected ndim=4, found ndim=3",
     "output_type": "error",
     "traceback": [
      "\u001b[0;31m---------------------------------------------------------------------------\u001b[0m",
      "\u001b[0;31mValueError\u001b[0m                                Traceback (most recent call last)",
      "\u001b[0;32m<ipython-input-129-9e600a3fd964>\u001b[0m in \u001b[0;36m<module>\u001b[0;34m\u001b[0m\n\u001b[0;32m----> 1\u001b[0;31m \u001b[0mg\u001b[0m \u001b[0;34m=\u001b[0m \u001b[0mgenerator\u001b[0m\u001b[0;34m(\u001b[0m\u001b[0;34m)\u001b[0m\u001b[0;34m\u001b[0m\u001b[0m\n\u001b[0m",
      "\u001b[0;32m<ipython-input-128-9ebc6ab30d86>\u001b[0m in \u001b[0;36mgenerator\u001b[0;34m()\u001b[0m\n\u001b[1;32m      4\u001b[0m     \u001b[0mX\u001b[0m \u001b[0;34m=\u001b[0m \u001b[0mDense\u001b[0m\u001b[0;34m(\u001b[0m\u001b[0;36m100\u001b[0m\u001b[0;34m)\u001b[0m\u001b[0;34m(\u001b[0m\u001b[0mX_in\u001b[0m\u001b[0;34m)\u001b[0m\u001b[0;34m\u001b[0m\u001b[0m\n\u001b[1;32m      5\u001b[0m     \u001b[0mX\u001b[0m \u001b[0;34m=\u001b[0m \u001b[0mDense\u001b[0m\u001b[0;34m(\u001b[0m\u001b[0;36m100\u001b[0m\u001b[0;34m)\u001b[0m\u001b[0;34m(\u001b[0m\u001b[0mX_in\u001b[0m\u001b[0;34m)\u001b[0m\u001b[0;34m\u001b[0m\u001b[0m\n\u001b[0;32m----> 6\u001b[0;31m     \u001b[0mX\u001b[0m \u001b[0;34m=\u001b[0m \u001b[0mConv1DTranspose\u001b[0m\u001b[0;34m(\u001b[0m\u001b[0mX\u001b[0m\u001b[0;34m,\u001b[0m \u001b[0;36m2\u001b[0m\u001b[0;34m,\u001b[0m \u001b[0;36m5\u001b[0m\u001b[0;34m)\u001b[0m\u001b[0;34m\u001b[0m\u001b[0m\n\u001b[0m\u001b[1;32m      7\u001b[0m     \u001b[0mX\u001b[0m \u001b[0;34m=\u001b[0m \u001b[0mDense\u001b[0m\u001b[0;34m(\u001b[0m\u001b[0;36m200\u001b[0m\u001b[0;34m)\u001b[0m\u001b[0;34m(\u001b[0m\u001b[0mX\u001b[0m\u001b[0;34m)\u001b[0m \u001b[0;31m#X = Conv1DTranspose(X_in, 5, 3)\u001b[0m\u001b[0;34m\u001b[0m\u001b[0m\n\u001b[1;32m      8\u001b[0m     \u001b[0mm\u001b[0m \u001b[0;34m=\u001b[0m \u001b[0mModel\u001b[0m\u001b[0;34m(\u001b[0m\u001b[0minputs\u001b[0m\u001b[0;34m=\u001b[0m\u001b[0mX_in\u001b[0m\u001b[0;34m,\u001b[0m \u001b[0moutputs\u001b[0m\u001b[0;34m=\u001b[0m\u001b[0mX\u001b[0m\u001b[0;34m)\u001b[0m\u001b[0;34m\u001b[0m\u001b[0m\n",
      "\u001b[0;32m<ipython-input-125-700d3c8e96e9>\u001b[0m in \u001b[0;36mConv1DTranspose\u001b[0;34m(input_tensor, filters, kernel_size, strides, padding)\u001b[0m\n\u001b[1;32m      1\u001b[0m \u001b[0;32mdef\u001b[0m \u001b[0mConv1DTranspose\u001b[0m\u001b[0;34m(\u001b[0m\u001b[0minput_tensor\u001b[0m\u001b[0;34m,\u001b[0m \u001b[0mfilters\u001b[0m\u001b[0;34m,\u001b[0m \u001b[0mkernel_size\u001b[0m\u001b[0;34m,\u001b[0m \u001b[0mstrides\u001b[0m\u001b[0;34m=\u001b[0m\u001b[0;36m2\u001b[0m\u001b[0;34m,\u001b[0m \u001b[0mpadding\u001b[0m\u001b[0;34m=\u001b[0m\u001b[0;34m'same'\u001b[0m\u001b[0;34m)\u001b[0m\u001b[0;34m:\u001b[0m\u001b[0;34m\u001b[0m\u001b[0m\n\u001b[1;32m      2\u001b[0m     \u001b[0mx\u001b[0m \u001b[0;34m=\u001b[0m \u001b[0mLambda\u001b[0m\u001b[0;34m(\u001b[0m\u001b[0;32mlambda\u001b[0m \u001b[0mx\u001b[0m\u001b[0;34m:\u001b[0m \u001b[0mK\u001b[0m\u001b[0;34m.\u001b[0m\u001b[0mexpand_dims\u001b[0m\u001b[0;34m(\u001b[0m\u001b[0mx\u001b[0m\u001b[0;34m,\u001b[0m \u001b[0maxis\u001b[0m\u001b[0;34m=\u001b[0m\u001b[0;36m2\u001b[0m\u001b[0;34m)\u001b[0m\u001b[0;34m)\u001b[0m\u001b[0;34m(\u001b[0m\u001b[0minput_tensor\u001b[0m\u001b[0;34m)\u001b[0m\u001b[0;34m\u001b[0m\u001b[0m\n\u001b[0;32m----> 3\u001b[0;31m     \u001b[0mx\u001b[0m \u001b[0;34m=\u001b[0m \u001b[0mConv2DTranspose\u001b[0m\u001b[0;34m(\u001b[0m\u001b[0mfilters\u001b[0m\u001b[0;34m=\u001b[0m\u001b[0mfilters\u001b[0m\u001b[0;34m,\u001b[0m \u001b[0mkernel_size\u001b[0m\u001b[0;34m=\u001b[0m\u001b[0;34m(\u001b[0m\u001b[0mkernel_size\u001b[0m\u001b[0;34m,\u001b[0m \u001b[0;36m1\u001b[0m\u001b[0;34m)\u001b[0m\u001b[0;34m,\u001b[0m \u001b[0mstrides\u001b[0m\u001b[0;34m=\u001b[0m\u001b[0;34m(\u001b[0m\u001b[0mstrides\u001b[0m\u001b[0;34m,\u001b[0m \u001b[0;36m1\u001b[0m\u001b[0;34m)\u001b[0m\u001b[0;34m,\u001b[0m \u001b[0mpadding\u001b[0m\u001b[0;34m=\u001b[0m\u001b[0mpadding\u001b[0m\u001b[0;34m)\u001b[0m\u001b[0;34m(\u001b[0m\u001b[0mx\u001b[0m\u001b[0;34m)\u001b[0m\u001b[0;34m\u001b[0m\u001b[0m\n\u001b[0m\u001b[1;32m      4\u001b[0m     \u001b[0mx\u001b[0m \u001b[0;34m=\u001b[0m \u001b[0mLambda\u001b[0m\u001b[0;34m(\u001b[0m\u001b[0;32mlambda\u001b[0m \u001b[0mx\u001b[0m\u001b[0;34m:\u001b[0m \u001b[0mK\u001b[0m\u001b[0;34m.\u001b[0m\u001b[0msqueeze\u001b[0m\u001b[0;34m(\u001b[0m\u001b[0mx\u001b[0m\u001b[0;34m,\u001b[0m \u001b[0maxis\u001b[0m\u001b[0;34m=\u001b[0m\u001b[0;36m2\u001b[0m\u001b[0;34m)\u001b[0m\u001b[0;34m)\u001b[0m\u001b[0;34m(\u001b[0m\u001b[0mx\u001b[0m\u001b[0;34m)\u001b[0m\u001b[0;34m\u001b[0m\u001b[0m\n\u001b[1;32m      5\u001b[0m     \u001b[0;32mreturn\u001b[0m \u001b[0mx\u001b[0m\u001b[0;34m\u001b[0m\u001b[0m\n",
      "\u001b[0;32m~/.local/lib/python3.5/site-packages/keras/engine/base_layer.py\u001b[0m in \u001b[0;36m__call__\u001b[0;34m(self, inputs, **kwargs)\u001b[0m\n\u001b[1;32m    412\u001b[0m                 \u001b[0;31m# Raise exceptions in case the input is not compatible\u001b[0m\u001b[0;34m\u001b[0m\u001b[0;34m\u001b[0m\u001b[0m\n\u001b[1;32m    413\u001b[0m                 \u001b[0;31m# with the input_spec specified in the layer constructor.\u001b[0m\u001b[0;34m\u001b[0m\u001b[0;34m\u001b[0m\u001b[0m\n\u001b[0;32m--> 414\u001b[0;31m                 \u001b[0mself\u001b[0m\u001b[0;34m.\u001b[0m\u001b[0massert_input_compatibility\u001b[0m\u001b[0;34m(\u001b[0m\u001b[0minputs\u001b[0m\u001b[0;34m)\u001b[0m\u001b[0;34m\u001b[0m\u001b[0m\n\u001b[0m\u001b[1;32m    415\u001b[0m \u001b[0;34m\u001b[0m\u001b[0m\n\u001b[1;32m    416\u001b[0m                 \u001b[0;31m# Collect input shapes to build layer.\u001b[0m\u001b[0;34m\u001b[0m\u001b[0;34m\u001b[0m\u001b[0m\n",
      "\u001b[0;32m~/.local/lib/python3.5/site-packages/keras/engine/base_layer.py\u001b[0m in \u001b[0;36massert_input_compatibility\u001b[0;34m(self, inputs)\u001b[0m\n\u001b[1;32m    309\u001b[0m                                      \u001b[0mself\u001b[0m\u001b[0;34m.\u001b[0m\u001b[0mname\u001b[0m \u001b[0;34m+\u001b[0m \u001b[0;34m': expected ndim='\u001b[0m \u001b[0;34m+\u001b[0m\u001b[0;34m\u001b[0m\u001b[0m\n\u001b[1;32m    310\u001b[0m                                      \u001b[0mstr\u001b[0m\u001b[0;34m(\u001b[0m\u001b[0mspec\u001b[0m\u001b[0;34m.\u001b[0m\u001b[0mndim\u001b[0m\u001b[0;34m)\u001b[0m \u001b[0;34m+\u001b[0m \u001b[0;34m', found ndim='\u001b[0m \u001b[0;34m+\u001b[0m\u001b[0;34m\u001b[0m\u001b[0m\n\u001b[0;32m--> 311\u001b[0;31m                                      str(K.ndim(x)))\n\u001b[0m\u001b[1;32m    312\u001b[0m             \u001b[0;32mif\u001b[0m \u001b[0mspec\u001b[0m\u001b[0;34m.\u001b[0m\u001b[0mmax_ndim\u001b[0m \u001b[0;32mis\u001b[0m \u001b[0;32mnot\u001b[0m \u001b[0;32mNone\u001b[0m\u001b[0;34m:\u001b[0m\u001b[0;34m\u001b[0m\u001b[0m\n\u001b[1;32m    313\u001b[0m                 \u001b[0mndim\u001b[0m \u001b[0;34m=\u001b[0m \u001b[0mK\u001b[0m\u001b[0;34m.\u001b[0m\u001b[0mndim\u001b[0m\u001b[0;34m(\u001b[0m\u001b[0mx\u001b[0m\u001b[0;34m)\u001b[0m\u001b[0;34m\u001b[0m\u001b[0m\n",
      "\u001b[0;31mValueError\u001b[0m: Input 0 is incompatible with layer conv2d_transpose_2: expected ndim=4, found ndim=3"
     ]
    }
   ],
   "source": [
    "g = generator()"
   ]
  },
  {
   "cell_type": "code",
   "execution_count": 117,
   "metadata": {},
   "outputs": [],
   "source": [
    "X = np.random.random(size=(2000,100))\n",
    "y = np.append(np.zeros((2000,100)),np.ones((2000,100)), 1)"
   ]
  },
  {
   "cell_type": "code",
   "execution_count": 118,
   "metadata": {},
   "outputs": [
    {
     "data": {
      "text/plain": [
       "(2000, 100)"
      ]
     },
     "execution_count": 118,
     "metadata": {},
     "output_type": "execute_result"
    }
   ],
   "source": [
    "X.shape"
   ]
  },
  {
   "cell_type": "code",
   "execution_count": 119,
   "metadata": {},
   "outputs": [
    {
     "data": {
      "text/plain": [
       "(2000, 200)"
      ]
     },
     "execution_count": 119,
     "metadata": {},
     "output_type": "execute_result"
    }
   ],
   "source": [
    "y.shape"
   ]
  },
  {
   "cell_type": "code",
   "execution_count": 120,
   "metadata": {
    "collapsed": true,
    "jupyter": {
     "outputs_hidden": true
    }
   },
   "outputs": [
    {
     "name": "stdout",
     "output_type": "stream",
     "text": [
      "Epoch 1/100\n",
      "2000/2000 [==============================] - 0s 245us/step - loss: 0.1369\n",
      "Epoch 2/100\n",
      "2000/2000 [==============================] - 0s 87us/step - loss: 0.0334\n",
      "Epoch 3/100\n",
      "2000/2000 [==============================] - 0s 98us/step - loss: 0.0224\n",
      "Epoch 4/100\n",
      "2000/2000 [==============================] - 0s 100us/step - loss: 0.0156\n",
      "Epoch 5/100\n",
      "2000/2000 [==============================] - 0s 92us/step - loss: 0.0112\n",
      "Epoch 6/100\n",
      "2000/2000 [==============================] - 0s 99us/step - loss: 0.0084\n",
      "Epoch 7/100\n",
      "2000/2000 [==============================] - 0s 91us/step - loss: 0.0064\n",
      "Epoch 8/100\n",
      "2000/2000 [==============================] - 0s 95us/step - loss: 0.0051\n",
      "Epoch 9/100\n",
      "2000/2000 [==============================] - 0s 101us/step - loss: 0.0042\n",
      "Epoch 10/100\n",
      "2000/2000 [==============================] - 0s 100us/step - loss: 0.0035\n",
      "Epoch 11/100\n",
      "2000/2000 [==============================] - 0s 96us/step - loss: 0.0030\n",
      "Epoch 12/100\n",
      "2000/2000 [==============================] - 0s 93us/step - loss: 0.0026\n",
      "Epoch 13/100\n",
      "2000/2000 [==============================] - 0s 99us/step - loss: 0.0024\n",
      "Epoch 14/100\n",
      "2000/2000 [==============================] - 0s 101us/step - loss: 0.0021\n",
      "Epoch 15/100\n",
      "2000/2000 [==============================] - 0s 96us/step - loss: 0.0019\n",
      "Epoch 16/100\n",
      "2000/2000 [==============================] - 0s 100us/step - loss: 0.0018\n",
      "Epoch 17/100\n",
      "2000/2000 [==============================] - 0s 102us/step - loss: 0.0016\n",
      "Epoch 18/100\n",
      "2000/2000 [==============================] - 0s 96us/step - loss: 0.0015\n",
      "Epoch 19/100\n",
      "2000/2000 [==============================] - 0s 95us/step - loss: 0.0014\n",
      "Epoch 20/100\n",
      "2000/2000 [==============================] - 0s 95us/step - loss: 0.0014\n",
      "Epoch 21/100\n",
      "2000/2000 [==============================] - 0s 98us/step - loss: 0.0013\n",
      "Epoch 22/100\n",
      "2000/2000 [==============================] - 0s 96us/step - loss: 0.0012\n",
      "Epoch 23/100\n",
      "2000/2000 [==============================] - 0s 98us/step - loss: 0.0011\n",
      "Epoch 24/100\n",
      "2000/2000 [==============================] - 0s 102us/step - loss: 0.0011\n",
      "Epoch 25/100\n",
      "2000/2000 [==============================] - 0s 96us/step - loss: 0.0010\n",
      "Epoch 26/100\n",
      "2000/2000 [==============================] - 0s 95us/step - loss: 9.8528e-04\n",
      "Epoch 27/100\n",
      "2000/2000 [==============================] - 0s 104us/step - loss: 8.9829e-04\n",
      "Epoch 28/100\n",
      "2000/2000 [==============================] - 0s 97us/step - loss: 8.0512e-04\n",
      "Epoch 29/100\n",
      "2000/2000 [==============================] - 0s 96us/step - loss: 7.8535e-04\n",
      "Epoch 30/100\n",
      "2000/2000 [==============================] - 0s 96us/step - loss: 7.5088e-04\n",
      "Epoch 31/100\n",
      "2000/2000 [==============================] - 0s 96us/step - loss: 6.3134e-04\n",
      "Epoch 32/100\n",
      "2000/2000 [==============================] - 0s 100us/step - loss: 6.0341e-04\n",
      "Epoch 33/100\n",
      "2000/2000 [==============================] - 0s 96us/step - loss: 5.1251e-04\n",
      "Epoch 34/100\n",
      "2000/2000 [==============================] - 0s 98us/step - loss: 4.9375e-04\n",
      "Epoch 35/100\n",
      "2000/2000 [==============================] - 0s 101us/step - loss: 4.7724e-04\n",
      "Epoch 36/100\n",
      "2000/2000 [==============================] - 0s 89us/step - loss: 3.9218e-04\n",
      "Epoch 37/100\n",
      "2000/2000 [==============================] - 0s 95us/step - loss: 3.6510e-04\n",
      "Epoch 38/100\n",
      "2000/2000 [==============================] - 0s 102us/step - loss: 3.2096e-04\n",
      "Epoch 39/100\n",
      "2000/2000 [==============================] - 0s 101us/step - loss: 2.4076e-04\n",
      "Epoch 40/100\n",
      "2000/2000 [==============================] - 0s 96us/step - loss: 2.2985e-04\n",
      "Epoch 41/100\n",
      "2000/2000 [==============================] - 0s 97us/step - loss: 1.6294e-04\n",
      "Epoch 42/100\n",
      "2000/2000 [==============================] - 0s 98us/step - loss: 2.0686e-04\n",
      "Epoch 43/100\n",
      "2000/2000 [==============================] - 0s 100us/step - loss: 1.3449e-04\n",
      "Epoch 44/100\n",
      "2000/2000 [==============================] - 0s 103us/step - loss: 1.0060e-04\n",
      "Epoch 45/100\n",
      "2000/2000 [==============================] - 0s 98us/step - loss: 8.5593e-05\n",
      "Epoch 46/100\n",
      "2000/2000 [==============================] - 0s 93us/step - loss: 6.5478e-05\n",
      "Epoch 47/100\n",
      "2000/2000 [==============================] - 0s 99us/step - loss: 8.2787e-05\n",
      "Epoch 48/100\n",
      "2000/2000 [==============================] - 0s 102us/step - loss: 4.8107e-05\n",
      "Epoch 49/100\n",
      "2000/2000 [==============================] - 0s 101us/step - loss: 4.5216e-05\n",
      "Epoch 50/100\n",
      "2000/2000 [==============================] - 0s 107us/step - loss: 2.5959e-05\n",
      "Epoch 51/100\n",
      "2000/2000 [==============================] - 0s 84us/step - loss: 1.9594e-05\n",
      "Epoch 52/100\n",
      "2000/2000 [==============================] - 0s 97us/step - loss: 1.5742e-05\n",
      "Epoch 53/100\n",
      "2000/2000 [==============================] - 0s 90us/step - loss: 1.3320e-05\n",
      "Epoch 54/100\n",
      "2000/2000 [==============================] - 0s 97us/step - loss: 1.1441e-05\n",
      "Epoch 55/100\n",
      "2000/2000 [==============================] - 0s 92us/step - loss: 8.9090e-06\n",
      "Epoch 56/100\n",
      "2000/2000 [==============================] - 0s 99us/step - loss: 7.8364e-06\n",
      "Epoch 57/100\n",
      "2000/2000 [==============================] - 0s 104us/step - loss: 5.9597e-06\n",
      "Epoch 58/100\n",
      "2000/2000 [==============================] - 0s 101us/step - loss: 5.7364e-06\n",
      "Epoch 59/100\n",
      "2000/2000 [==============================] - 0s 99us/step - loss: 4.8429e-06\n",
      "Epoch 60/100\n",
      "2000/2000 [==============================] - 0s 103us/step - loss: 3.5994e-06\n",
      "Epoch 61/100\n",
      "2000/2000 [==============================] - 0s 97us/step - loss: 3.5187e-06\n",
      "Epoch 62/100\n",
      "2000/2000 [==============================] - 0s 100us/step - loss: 2.7096e-06\n",
      "Epoch 63/100\n",
      "2000/2000 [==============================] - 0s 94us/step - loss: 2.3982e-06\n",
      "Epoch 64/100\n",
      "2000/2000 [==============================] - 0s 99us/step - loss: 2.3275e-06\n",
      "Epoch 65/100\n",
      "2000/2000 [==============================] - 0s 94us/step - loss: 2.6080e-06\n",
      "Epoch 66/100\n",
      "2000/2000 [==============================] - 0s 99us/step - loss: 1.3882e-05\n",
      "Epoch 67/100\n",
      "2000/2000 [==============================] - 0s 97us/step - loss: 4.5158e-05\n",
      "Epoch 68/100\n",
      "2000/2000 [==============================] - 0s 91us/step - loss: 1.2946e-05\n",
      "Epoch 69/100\n",
      "2000/2000 [==============================] - 0s 96us/step - loss: 5.2785e-06\n",
      "Epoch 70/100\n",
      "2000/2000 [==============================] - 0s 91us/step - loss: 5.1127e-06\n",
      "Epoch 71/100\n",
      "2000/2000 [==============================] - 0s 95us/step - loss: 2.5128e-06\n",
      "Epoch 72/100\n",
      "2000/2000 [==============================] - 0s 101us/step - loss: 2.5865e-05\n",
      "Epoch 73/100\n",
      "2000/2000 [==============================] - 0s 97us/step - loss: 3.1541e-05\n",
      "Epoch 74/100\n",
      "2000/2000 [==============================] - 0s 101us/step - loss: 3.9275e-05\n",
      "Epoch 75/100\n",
      "2000/2000 [==============================] - 0s 97us/step - loss: 2.5799e-05\n",
      "Epoch 76/100\n",
      "2000/2000 [==============================] - 0s 96us/step - loss: 4.4205e-06\n",
      "Epoch 77/100\n",
      "2000/2000 [==============================] - 0s 98us/step - loss: 5.4091e-06\n",
      "Epoch 78/100\n",
      "2000/2000 [==============================] - 0s 96us/step - loss: 2.8345e-06\n",
      "Epoch 79/100\n",
      "2000/2000 [==============================] - 0s 104us/step - loss: 2.1683e-06\n",
      "Epoch 80/100\n",
      "2000/2000 [==============================] - 0s 98us/step - loss: 5.7927e-05\n",
      "Epoch 81/100\n",
      "2000/2000 [==============================] - 0s 95us/step - loss: 1.4834e-05\n",
      "Epoch 82/100\n",
      "2000/2000 [==============================] - 0s 94us/step - loss: 1.8141e-06\n",
      "Epoch 83/100\n",
      "2000/2000 [==============================] - 0s 97us/step - loss: 2.1447e-06\n",
      "Epoch 84/100\n",
      "2000/2000 [==============================] - 0s 94us/step - loss: 1.3172e-05\n",
      "Epoch 85/100\n",
      "2000/2000 [==============================] - 0s 92us/step - loss: 1.0824e-04\n",
      "Epoch 86/100\n",
      "2000/2000 [==============================] - 0s 99us/step - loss: 1.0788e-05\n",
      "Epoch 87/100\n",
      "2000/2000 [==============================] - 0s 105us/step - loss: 4.2749e-06\n",
      "Epoch 88/100\n",
      "2000/2000 [==============================] - 0s 95us/step - loss: 1.3706e-06\n",
      "Epoch 89/100\n",
      "2000/2000 [==============================] - 0s 96us/step - loss: 3.9868e-07\n",
      "Epoch 90/100\n",
      "2000/2000 [==============================] - 0s 91us/step - loss: 2.6239e-07\n",
      "Epoch 91/100\n",
      "2000/2000 [==============================] - 0s 97us/step - loss: 9.8467e-07\n",
      "Epoch 92/100\n",
      "2000/2000 [==============================] - 0s 98us/step - loss: 2.7955e-06\n",
      "Epoch 93/100\n",
      "2000/2000 [==============================] - 0s 93us/step - loss: 6.1675e-05\n",
      "Epoch 94/100\n",
      "2000/2000 [==============================] - 0s 97us/step - loss: 3.0384e-05\n",
      "Epoch 95/100\n",
      "2000/2000 [==============================] - 0s 100us/step - loss: 8.1815e-06\n",
      "Epoch 96/100\n",
      "2000/2000 [==============================] - 0s 88us/step - loss: 5.0925e-06\n",
      "Epoch 97/100\n",
      "2000/2000 [==============================] - 0s 98us/step - loss: 1.1710e-06\n",
      "Epoch 98/100\n",
      "2000/2000 [==============================] - 0s 98us/step - loss: 1.5351e-06\n",
      "Epoch 99/100\n",
      "2000/2000 [==============================] - 0s 101us/step - loss: 1.2155e-06\n",
      "Epoch 100/100\n",
      "2000/2000 [==============================] - 0s 91us/step - loss: 2.7639e-05\n"
     ]
    },
    {
     "data": {
      "text/plain": [
       "<keras.callbacks.History at 0x7fcbbfba5668>"
      ]
     },
     "execution_count": 120,
     "metadata": {},
     "output_type": "execute_result"
    }
   ],
   "source": [
    "g.fit(X, y, epochs=100)"
   ]
  },
  {
   "cell_type": "code",
   "execution_count": 121,
   "metadata": {
    "collapsed": true,
    "jupyter": {
     "outputs_hidden": true
    }
   },
   "outputs": [
    {
     "data": {
      "text/plain": [
       "array([[-7.04291742e-05,  3.45103443e-04,  2.88976356e-04,\n",
       "        -1.55248679e-04,  2.96020880e-05, -1.85009092e-04,\n",
       "         8.68276693e-05,  1.52561814e-04,  1.40444841e-04,\n",
       "         2.07316130e-04, -4.17994102e-04, -6.47456618e-05,\n",
       "        -4.39528376e-05, -2.03145668e-04,  1.57325529e-04,\n",
       "         1.69586856e-04,  3.17157712e-04, -1.88646838e-04,\n",
       "        -5.70833217e-04,  8.19843262e-05, -6.74845651e-05,\n",
       "        -4.22544777e-04,  1.88128091e-04, -1.61162345e-04,\n",
       "         2.50088051e-04, -1.98580790e-04,  2.71479366e-05,\n",
       "         1.60694122e-04,  2.56504864e-05,  2.93013174e-04,\n",
       "         9.18414444e-05,  1.45589933e-04,  1.72420521e-04,\n",
       "         4.39698808e-04,  3.26336827e-04, -3.64293810e-04,\n",
       "        -5.38727269e-04, -2.18204455e-04, -4.42210585e-05,\n",
       "        -3.27281188e-04, -1.02478545e-04, -8.57850537e-05,\n",
       "        -1.01700425e-04, -5.60141634e-05,  3.91236623e-04,\n",
       "         1.45263970e-04,  7.69360922e-04,  9.47862864e-05,\n",
       "         2.11931765e-05, -4.64708311e-04, -4.35765833e-06,\n",
       "         2.22805422e-04, -3.61006707e-04,  2.30571837e-04,\n",
       "         8.62553716e-05,  6.33200631e-04,  2.74072867e-04,\n",
       "        -2.60810688e-04, -2.67345458e-05, -1.65356323e-04,\n",
       "         3.53280338e-05, -1.55901071e-04,  1.23802572e-04,\n",
       "        -6.52302988e-05,  5.91482967e-05, -6.89365435e-04,\n",
       "        -2.39082612e-04, -2.09737569e-04, -4.51592728e-04,\n",
       "         7.57924281e-05, -1.23358332e-04, -1.75671186e-04,\n",
       "         3.42789106e-04,  9.77888703e-05,  7.55358487e-05,\n",
       "        -1.98960770e-04, -4.24711965e-04,  2.03008705e-04,\n",
       "        -1.44133344e-04,  4.66482714e-04, -4.04487364e-05,\n",
       "         2.14337371e-04, -1.53919682e-05, -3.22980806e-04,\n",
       "         1.14121474e-04,  1.15913805e-04, -3.04497778e-04,\n",
       "        -1.49882399e-05,  2.86114751e-04,  2.02078372e-05,\n",
       "        -6.53134659e-04,  4.89990925e-05, -2.56503001e-04,\n",
       "         1.23925507e-04,  1.22594647e-04,  2.17422843e-04,\n",
       "        -5.50364144e-04, -6.92056492e-05, -2.65181996e-04,\n",
       "         1.20786019e-04,  1.00158882e+00,  1.00023043e+00,\n",
       "         1.00101900e+00,  1.00072789e+00,  9.99767125e-01,\n",
       "         1.00153387e+00,  1.00069332e+00,  1.00113785e+00,\n",
       "         1.00104296e+00,  1.00041330e+00,  1.00097072e+00,\n",
       "         1.00109410e+00,  1.00083733e+00,  1.00119269e+00,\n",
       "         1.00235593e+00,  9.99936461e-01,  1.00044179e+00,\n",
       "         1.00093961e+00,  1.00110078e+00,  9.99903381e-01,\n",
       "         1.00137174e+00,  1.00036764e+00,  1.00103378e+00,\n",
       "         1.00069642e+00,  1.00028396e+00,  9.99855220e-01,\n",
       "         1.00110769e+00,  1.00077665e+00,  1.00118685e+00,\n",
       "         1.00040197e+00,  1.00079477e+00,  1.00056934e+00,\n",
       "         9.99397099e-01,  1.00089991e+00,  1.00053763e+00,\n",
       "         1.00058138e+00,  1.00022697e+00,  1.00118375e+00,\n",
       "         9.99915957e-01,  1.00103307e+00,  1.00152969e+00,\n",
       "         1.00079191e+00,  1.00132179e+00,  1.00091672e+00,\n",
       "         1.00043583e+00,  1.00238252e+00,  1.00115919e+00,\n",
       "         1.00128889e+00,  1.00036287e+00,  1.00074279e+00,\n",
       "         1.00030160e+00,  9.99963760e-01,  1.00006735e+00,\n",
       "         1.00062692e+00,  9.99937773e-01,  1.00052869e+00,\n",
       "         1.00130141e+00,  1.00052345e+00,  1.00007737e+00,\n",
       "         1.00096393e+00,  1.00115728e+00,  1.00228822e+00,\n",
       "         1.00062752e+00,  1.00110853e+00,  1.00075233e+00,\n",
       "         1.00042856e+00,  1.00110638e+00,  1.00102758e+00,\n",
       "         1.00099647e+00,  1.00085294e+00,  1.00032890e+00,\n",
       "         1.00044608e+00,  1.00078380e+00,  1.00010180e+00,\n",
       "         1.00082660e+00,  1.00071192e+00,  1.00228071e+00,\n",
       "         1.00108802e+00,  1.00003135e+00,  1.00123537e+00,\n",
       "         1.00046027e+00,  1.00035799e+00,  1.00113380e+00,\n",
       "         1.00159121e+00,  1.00184178e+00,  1.00117743e+00,\n",
       "         1.00104403e+00,  1.00001109e+00,  9.99738872e-01,\n",
       "         1.00042725e+00,  1.00140488e+00,  1.00100088e+00,\n",
       "         1.00093186e+00,  1.00109971e+00,  1.00058794e+00,\n",
       "         1.00198007e+00,  1.00129437e+00,  1.00078619e+00,\n",
       "         1.00095713e+00,  1.00028992e+00]], dtype=float32)"
      ]
     },
     "execution_count": 121,
     "metadata": {},
     "output_type": "execute_result"
    }
   ],
   "source": [
    "g.predict(np.random.random(size=(1,100)))"
   ]
  },
  {
   "cell_type": "code",
   "execution_count": 20,
   "metadata": {},
   "outputs": [],
   "source": [
    "def resBlock(X, filters, k_size):\n",
    "    X0 = X\n",
    "    \n",
    "    X = MaxPooling1D(pool_size=3)(X)\n",
    "    X = Conv1D(filters, k_size, padding='same')(X)    \n",
    "    X = Activation('relu')(X)\n",
    "\n",
    "    X = MaxPooling1D(pool_size=3)(X)\n",
    "    X = Conv1D(filters, k_size, padding='same')(X)\n",
    "    X = Activation('relu')(X)\n",
    "    \n",
    "    X = MaxPooling1D(pool_size=3)(X)\n",
    "    X = Conv1D(filters, k_size, padding='same')(X)\n",
    "    X = Activation('relu')(X)\n",
    "    \n",
    "    X = MaxPooling1D(pool_size=3)(X)  \n",
    "    \n",
    "    #X = Add()([X, X0])\n",
    "    return X"
   ]
  },
  {
   "cell_type": "code",
   "execution_count": 21,
   "metadata": {},
   "outputs": [],
   "source": [
    "def occam_cnn(F1, K1, input_shape=(3500,1)):\n",
    "    X_in = Input(input_shape)\n",
    "    #X = BatchNormalization()(X_in)\n",
    "    X = resBlock(X_in, F1, K1)\n",
    "    X = Flatten()(X)\n",
    "    X = Dense(1, activation='sigmoid')(X)\n",
    "    m = Model(inputs=X_in, outputs=X, name=\"Occam's CNN\")\n",
    "    m.compile(optimizer='adam', loss='binary_crossentropy', metrics=['accuracy'])\n",
    "    return m"
   ]
  },
  {
   "cell_type": "code",
   "execution_count": 22,
   "metadata": {},
   "outputs": [],
   "source": [
    "model = occam_cnn(128, 64)"
   ]
  },
  {
   "cell_type": "code",
   "execution_count": null,
   "metadata": {},
   "outputs": [],
   "source": []
  },
  {
   "cell_type": "code",
   "execution_count": null,
   "metadata": {},
   "outputs": [],
   "source": []
  },
  {
   "cell_type": "code",
   "execution_count": null,
   "metadata": {},
   "outputs": [],
   "source": []
  },
  {
   "cell_type": "code",
   "execution_count": null,
   "metadata": {},
   "outputs": [],
   "source": []
  },
  {
   "cell_type": "code",
   "execution_count": null,
   "metadata": {},
   "outputs": [],
   "source": []
  },
  {
   "cell_type": "code",
   "execution_count": null,
   "metadata": {},
   "outputs": [],
   "source": []
  },
  {
   "cell_type": "code",
   "execution_count": null,
   "metadata": {},
   "outputs": [],
   "source": []
  },
  {
   "cell_type": "code",
   "execution_count": null,
   "metadata": {},
   "outputs": [],
   "source": []
  },
  {
   "cell_type": "code",
   "execution_count": null,
   "metadata": {},
   "outputs": [],
   "source": []
  }
 ],
 "metadata": {
  "kernelspec": {
   "display_name": "Python 3",
   "language": "python",
   "name": "python3"
  },
  "language_info": {
   "codemirror_mode": {
    "name": "ipython",
    "version": 3
   },
   "file_extension": ".py",
   "mimetype": "text/x-python",
   "name": "python",
   "nbconvert_exporter": "python",
   "pygments_lexer": "ipython3",
   "version": "3.7.3"
  }
 },
 "nbformat": 4,
 "nbformat_minor": 4
}
