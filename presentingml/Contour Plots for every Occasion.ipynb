{
 "cells": [
  {
   "cell_type": "code",
   "execution_count": 1,
   "metadata": {},
   "outputs": [],
   "source": [
    "import numpy as np;\n",
    "from matplotlib import pyplot as plt"
   ]
  },
  {
   "cell_type": "code",
   "execution_count": 2,
   "metadata": {},
   "outputs": [],
   "source": [
    "def cPlot(y,x,z,xName,yName,titleName):\n",
    "    fig1, ax1 = plt.subplots(figsize=(18,12))\n",
    "    \n",
    "    cs2 = ax1.contour(y,x,z*100, levels=np.arange(0.,1.05,0.05)*100, colors='k',zorder=2)\n",
    "\n",
    "    cs = ax1.contourf(y,x,100*z, 100*np.arange(0,1.05,0.05), levels=100*np.arange(0,1.05,0.05), cmap='Blues_r',zorder=1)    \n",
    "    plt.title(titleName, y=1.01)\n",
    "    plt.ylabel(yName)\n",
    "    plt.xlabel(xName)\n",
    "    cb = fig1.colorbar(cs)\n",
    "    cb.ax.set_ylabel('Accuracy (%)', labelpad=30, rotation=270)\n",
    "    for thing in [ax1.title, ax1.xaxis.label, ax1.yaxis.label, cb.ax.yaxis.label]:\n",
    "        thing.set_fontsize(20)\n",
    "    for tick in ax1.xaxis.get_major_ticks()+ax1.yaxis.get_major_ticks()+cb.ax.yaxis.get_major_ticks():\n",
    "        tick.label.set_fontsize(12)\n",
    "    \n",
    "    plt.clabel(cs2,100*np.arange(0.,1.05,0.05), fmt='%d', inline=True, fontsize=12)\n"
   ]
  },
  {
   "cell_type": "code",
   "execution_count": 3,
   "metadata": {
    "scrolled": true
   },
   "outputs": [
    {
     "data": {
      "text/plain": [
       "20"
      ]
     },
     "execution_count": 3,
     "metadata": {},
     "output_type": "execute_result"
    }
   ],
   "source": [
    "len(np.arange(50,1050,50))"
   ]
  },
  {
   "cell_type": "markdown",
   "metadata": {},
   "source": [
    "records[i][j][k] -> i is energy index, j is percent index, k is delay index"
   ]
  },
  {
   "cell_type": "code",
   "execution_count": 4,
   "metadata": {},
   "outputs": [],
   "source": [
    "data = np.load('records3.npy')"
   ]
  },
  {
   "cell_type": "code",
   "execution_count": 5,
   "metadata": {},
   "outputs": [],
   "source": [
    "#cPlot(percent,delay,data[10,:,:].T, 'x','y','z')"
   ]
  },
  {
   "cell_type": "code",
   "execution_count": 6,
   "metadata": {},
   "outputs": [],
   "source": [
    "energy = np.arange(50,2550,50)\n",
    "delay = np.arange(20,200,20)\n",
    "percent = np.arange(10,100,10)"
   ]
  },
  {
   "cell_type": "code",
   "execution_count": 7,
   "metadata": {},
   "outputs": [],
   "source": [
    "for i, e in enumerate(energy[:20]):\n",
    "    name = 'Accuracy(% Deposited, $\\Delta t_0$)$|_{E='+str(e)+'}$'\n",
    "    cPlot(percent, delay, data[i,:,:].T,'% Initially Deposited','$\\Delta t_0$ (ns)',name)\n",
    "    plt.savefig('plots/energy'+str(i*50+50)+'.png')\n",
    "    plt.close()"
   ]
  },
  {
   "cell_type": "code",
   "execution_count": 8,
   "metadata": {},
   "outputs": [],
   "source": [
    "for i, p in enumerate(percent):\n",
    "    name = 'Accuracy(E,$\\Delta t_0$)$|_{\\%='+str(p)+'}$'\n",
    "    cPlot(energy[:20], delay, data[:20,i,:].T,'Energy (ADC)','$\\Delta t_0$ (ns)',name)\n",
    "    plt.savefig('plots/percent'+str(i*10+10)+'.png')\n",
    "    plt.close()"
   ]
  },
  {
   "cell_type": "code",
   "execution_count": 9,
   "metadata": {},
   "outputs": [],
   "source": [
    "for i, d in enumerate(delay):\n",
    "    name = 'Accuracy(E,% Deposited)$|_{\\Delta t_0='+str(d)+'}$'\n",
    "    cPlot(energy[:20], percent, data[:20,:,i].T,'Energy (ADC)','% Initially Deposited',name)\n",
    "    plt.savefig('plots/delay'+str(i*20+20)+'.png')\n",
    "    plt.close()"
   ]
  },
  {
   "cell_type": "code",
   "execution_count": null,
   "metadata": {},
   "outputs": [],
   "source": []
  }
 ],
 "metadata": {
  "kernelspec": {
   "display_name": "Python 3",
   "language": "python",
   "name": "python3"
  },
  "language_info": {
   "codemirror_mode": {
    "name": "ipython",
    "version": 3
   },
   "file_extension": ".py",
   "mimetype": "text/x-python",
   "name": "python",
   "nbconvert_exporter": "python",
   "pygments_lexer": "ipython3",
   "version": "3.5.2"
  }
 },
 "nbformat": 4,
 "nbformat_minor": 2
}
